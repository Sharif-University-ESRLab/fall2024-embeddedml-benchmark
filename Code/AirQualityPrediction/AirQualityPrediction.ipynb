{
 "cells": [
  {
   "cell_type": "markdown",
   "id": "60bf891d",
   "metadata": {},
   "source": [
    "# Air Quality Prediction for Embedded Systems\n",
    "\n",
    "This notebook demonstrates the process of building, quantizing, and evaluating lightweight machine learning models for air quality prediction, suitable for deployment on embedded systems. We use a popular public dataset, design two compact models, convert them to TensorFlow Lite, and compare their performance and size."
   ]
  },
  {
   "cell_type": "markdown",
   "id": "4dd7d41c",
   "metadata": {},
   "source": [
    "## 1. Dataset Preparation\n",
    "\n",
    "We use the [UCI Air Quality Dataset](https://archive.ics.uci.edu/ml/datasets/Air+Quality) which contains sensor data for air quality prediction. The dataset is publicly available and widely used for this task."
   ]
  },
  {
   "cell_type": "code",
   "execution_count": 2,
   "id": "78ae2157",
   "metadata": {},
   "outputs": [
    {
     "data": {
      "text/html": [
       "<div>\n",
       "<style scoped>\n",
       "    .dataframe tbody tr th:only-of-type {\n",
       "        vertical-align: middle;\n",
       "    }\n",
       "\n",
       "    .dataframe tbody tr th {\n",
       "        vertical-align: top;\n",
       "    }\n",
       "\n",
       "    .dataframe thead th {\n",
       "        text-align: right;\n",
       "    }\n",
       "</style>\n",
       "<table border=\"1\" class=\"dataframe\">\n",
       "  <thead>\n",
       "    <tr style=\"text-align: right;\">\n",
       "      <th></th>\n",
       "      <th>Date</th>\n",
       "      <th>Time</th>\n",
       "      <th>CO(GT)</th>\n",
       "      <th>PT08.S1(CO)</th>\n",
       "      <th>NMHC(GT)</th>\n",
       "      <th>C6H6(GT)</th>\n",
       "      <th>PT08.S2(NMHC)</th>\n",
       "      <th>NOx(GT)</th>\n",
       "      <th>PT08.S3(NOx)</th>\n",
       "      <th>NO2(GT)</th>\n",
       "      <th>PT08.S4(NO2)</th>\n",
       "      <th>PT08.S5(O3)</th>\n",
       "      <th>T</th>\n",
       "      <th>RH</th>\n",
       "      <th>AH</th>\n",
       "    </tr>\n",
       "  </thead>\n",
       "  <tbody>\n",
       "    <tr>\n",
       "      <th>0</th>\n",
       "      <td>10/03/2004</td>\n",
       "      <td>18.00.00</td>\n",
       "      <td>2.6</td>\n",
       "      <td>1360.0</td>\n",
       "      <td>150.0</td>\n",
       "      <td>11.9</td>\n",
       "      <td>1046.0</td>\n",
       "      <td>166.0</td>\n",
       "      <td>1056.0</td>\n",
       "      <td>113.0</td>\n",
       "      <td>1692.0</td>\n",
       "      <td>1268.0</td>\n",
       "      <td>13.6</td>\n",
       "      <td>48.9</td>\n",
       "      <td>0.7578</td>\n",
       "    </tr>\n",
       "    <tr>\n",
       "      <th>1</th>\n",
       "      <td>10/03/2004</td>\n",
       "      <td>19.00.00</td>\n",
       "      <td>2.0</td>\n",
       "      <td>1292.0</td>\n",
       "      <td>112.0</td>\n",
       "      <td>9.4</td>\n",
       "      <td>955.0</td>\n",
       "      <td>103.0</td>\n",
       "      <td>1174.0</td>\n",
       "      <td>92.0</td>\n",
       "      <td>1559.0</td>\n",
       "      <td>972.0</td>\n",
       "      <td>13.3</td>\n",
       "      <td>47.7</td>\n",
       "      <td>0.7255</td>\n",
       "    </tr>\n",
       "    <tr>\n",
       "      <th>2</th>\n",
       "      <td>10/03/2004</td>\n",
       "      <td>20.00.00</td>\n",
       "      <td>2.2</td>\n",
       "      <td>1402.0</td>\n",
       "      <td>88.0</td>\n",
       "      <td>9.0</td>\n",
       "      <td>939.0</td>\n",
       "      <td>131.0</td>\n",
       "      <td>1140.0</td>\n",
       "      <td>114.0</td>\n",
       "      <td>1555.0</td>\n",
       "      <td>1074.0</td>\n",
       "      <td>11.9</td>\n",
       "      <td>54.0</td>\n",
       "      <td>0.7502</td>\n",
       "    </tr>\n",
       "    <tr>\n",
       "      <th>3</th>\n",
       "      <td>10/03/2004</td>\n",
       "      <td>21.00.00</td>\n",
       "      <td>2.2</td>\n",
       "      <td>1376.0</td>\n",
       "      <td>80.0</td>\n",
       "      <td>9.2</td>\n",
       "      <td>948.0</td>\n",
       "      <td>172.0</td>\n",
       "      <td>1092.0</td>\n",
       "      <td>122.0</td>\n",
       "      <td>1584.0</td>\n",
       "      <td>1203.0</td>\n",
       "      <td>11.0</td>\n",
       "      <td>60.0</td>\n",
       "      <td>0.7867</td>\n",
       "    </tr>\n",
       "    <tr>\n",
       "      <th>4</th>\n",
       "      <td>10/03/2004</td>\n",
       "      <td>22.00.00</td>\n",
       "      <td>1.6</td>\n",
       "      <td>1272.0</td>\n",
       "      <td>51.0</td>\n",
       "      <td>6.5</td>\n",
       "      <td>836.0</td>\n",
       "      <td>131.0</td>\n",
       "      <td>1205.0</td>\n",
       "      <td>116.0</td>\n",
       "      <td>1490.0</td>\n",
       "      <td>1110.0</td>\n",
       "      <td>11.2</td>\n",
       "      <td>59.6</td>\n",
       "      <td>0.7888</td>\n",
       "    </tr>\n",
       "  </tbody>\n",
       "</table>\n",
       "</div>"
      ],
      "text/plain": [
       "         Date      Time  CO(GT)  PT08.S1(CO)  NMHC(GT)  C6H6(GT)  \\\n",
       "0  10/03/2004  18.00.00     2.6       1360.0     150.0      11.9   \n",
       "1  10/03/2004  19.00.00     2.0       1292.0     112.0       9.4   \n",
       "2  10/03/2004  20.00.00     2.2       1402.0      88.0       9.0   \n",
       "3  10/03/2004  21.00.00     2.2       1376.0      80.0       9.2   \n",
       "4  10/03/2004  22.00.00     1.6       1272.0      51.0       6.5   \n",
       "\n",
       "   PT08.S2(NMHC)  NOx(GT)  PT08.S3(NOx)  NO2(GT)  PT08.S4(NO2)  PT08.S5(O3)  \\\n",
       "0         1046.0    166.0        1056.0    113.0        1692.0       1268.0   \n",
       "1          955.0    103.0        1174.0     92.0        1559.0        972.0   \n",
       "2          939.0    131.0        1140.0    114.0        1555.0       1074.0   \n",
       "3          948.0    172.0        1092.0    122.0        1584.0       1203.0   \n",
       "4          836.0    131.0        1205.0    116.0        1490.0       1110.0   \n",
       "\n",
       "      T    RH      AH  \n",
       "0  13.6  48.9  0.7578  \n",
       "1  13.3  47.7  0.7255  \n",
       "2  11.9  54.0  0.7502  \n",
       "3  11.0  60.0  0.7867  \n",
       "4  11.2  59.6  0.7888  "
      ]
     },
     "execution_count": 2,
     "metadata": {},
     "output_type": "execute_result"
    }
   ],
   "source": [
    "# Download and load the UCI Air Quality dataset\n",
    "import pandas as pd\n",
    "import numpy as np\n",
    "import requests\n",
    "from io import BytesIO\n",
    "import zipfile\n",
    "\n",
    "url = 'https://archive.ics.uci.edu/ml/machine-learning-databases/00360/AirQualityUCI.zip'\n",
    "r = requests.get(url)\n",
    "z = zipfile.ZipFile(BytesIO(r.content))\n",
    "df = pd.read_csv(z.open('AirQualityUCI.csv'), sep=';', decimal=',')\n",
    "\n",
    "df = df.iloc[:, :-2]\n",
    "df = df.dropna()\n",
    "\n",
    "for col in df.columns[2:]:\n",
    "    df[col] = pd.to_numeric(df[col], errors='coerce')\n",
    "\n",
    "df = df.dropna()\n",
    "\n",
    "df.head()"
   ]
  },
  {
   "cell_type": "markdown",
   "id": "0b9c6ee6",
   "metadata": {},
   "source": [
    "## 2. Data Preprocessing\n",
    "\n",
    "We select relevant features and the target variable (\"C6H6(GT)\" - Benzene concentration). Data is split into train and test sets, and normalized for model training."
   ]
  },
  {
   "cell_type": "code",
   "execution_count": 3,
   "id": "c82cfb5d",
   "metadata": {},
   "outputs": [
    {
     "name": "stdout",
     "output_type": "stream",
     "text": [
      "Train shape: (7485, 12) Test shape: (1872, 12)\n"
     ]
    }
   ],
   "source": [
    "from sklearn.model_selection import train_test_split\n",
    "from sklearn.preprocessing import StandardScaler\n",
    "\n",
    "features = [\n",
    "    'CO(GT)', 'PT08.S1(CO)', 'NMHC(GT)', 'PT08.S2(NMHC)',\n",
    "    'NOx(GT)', 'PT08.S3(NOx)', 'NO2(GT)', 'PT08.S4(NO2)',\n",
    "    'PT08.S5(O3)', 'T', 'RH', 'AH'\n",
    "]\n",
    "target = 'C6H6(GT)'\n",
    "\n",
    "X = df[features].values\n",
    "y = df[target].values\n",
    "\n",
    "X_train, X_test, y_train, y_test = train_test_split(X, y, test_size=0.2, random_state=42)\n",
    "\n",
    "scaler = StandardScaler()\n",
    "X_train = scaler.fit_transform(X_train)\n",
    "X_test = scaler.transform(X_test)\n",
    "\n",
    "print('Train shape:', X_train.shape, 'Test shape:', X_test.shape)"
   ]
  },
  {
   "cell_type": "markdown",
   "id": "fe46ca0e",
   "metadata": {},
   "source": [
    "## 3. Model Design\n",
    "\n",
    "We design two compact neural network models suitable for embedded deployment:\n",
    "- **Model 1:** A small fully connected (Dense) neural network\n",
    "- **Model 2:** A small 1D Convolutional Neural Network (CNN)\n",
    "\n",
    "Both models are designed to have a small number of parameters (target: <60KB after quantization)."
   ]
  },
  {
   "cell_type": "code",
   "execution_count": 4,
   "id": "33d0723b",
   "metadata": {},
   "outputs": [
    {
     "name": "stderr",
     "output_type": "stream",
     "text": [
      "C:\\Users\\ROG\\AppData\\Roaming\\Python\\Python311\\site-packages\\keras\\src\\layers\\reshaping\\reshape.py:39: UserWarning: Do not pass an `input_shape`/`input_dim` argument to a layer. When using Sequential models, prefer using an `Input(shape)` object as the first layer in the model instead.\n",
      "  super().__init__(**kwargs)\n"
     ]
    },
    {
     "data": {
      "text/html": [
       "<pre style=\"white-space:pre;overflow-x:auto;line-height:normal;font-family:Menlo,'DejaVu Sans Mono',consolas,'Courier New',monospace\"><span style=\"font-weight: bold\">Model: \"sequential\"</span>\n",
       "</pre>\n"
      ],
      "text/plain": [
       "\u001b[1mModel: \"sequential\"\u001b[0m\n"
      ]
     },
     "metadata": {},
     "output_type": "display_data"
    },
    {
     "data": {
      "text/html": [
       "<pre style=\"white-space:pre;overflow-x:auto;line-height:normal;font-family:Menlo,'DejaVu Sans Mono',consolas,'Courier New',monospace\">┏━━━━━━━━━━━━━━━━━━━━━━━━━━━━━━━━━┳━━━━━━━━━━━━━━━━━━━━━━━━┳━━━━━━━━━━━━━━━┓\n",
       "┃<span style=\"font-weight: bold\"> Layer (type)                    </span>┃<span style=\"font-weight: bold\"> Output Shape           </span>┃<span style=\"font-weight: bold\">       Param # </span>┃\n",
       "┡━━━━━━━━━━━━━━━━━━━━━━━━━━━━━━━━━╇━━━━━━━━━━━━━━━━━━━━━━━━╇━━━━━━━━━━━━━━━┩\n",
       "│ dense (<span style=\"color: #0087ff; text-decoration-color: #0087ff\">Dense</span>)                   │ (<span style=\"color: #00d7ff; text-decoration-color: #00d7ff\">None</span>, <span style=\"color: #00af00; text-decoration-color: #00af00\">16</span>)             │           <span style=\"color: #00af00; text-decoration-color: #00af00\">208</span> │\n",
       "├─────────────────────────────────┼────────────────────────┼───────────────┤\n",
       "│ dense_1 (<span style=\"color: #0087ff; text-decoration-color: #0087ff\">Dense</span>)                 │ (<span style=\"color: #00d7ff; text-decoration-color: #00d7ff\">None</span>, <span style=\"color: #00af00; text-decoration-color: #00af00\">8</span>)              │           <span style=\"color: #00af00; text-decoration-color: #00af00\">136</span> │\n",
       "├─────────────────────────────────┼────────────────────────┼───────────────┤\n",
       "│ dense_2 (<span style=\"color: #0087ff; text-decoration-color: #0087ff\">Dense</span>)                 │ (<span style=\"color: #00d7ff; text-decoration-color: #00d7ff\">None</span>, <span style=\"color: #00af00; text-decoration-color: #00af00\">1</span>)              │             <span style=\"color: #00af00; text-decoration-color: #00af00\">9</span> │\n",
       "└─────────────────────────────────┴────────────────────────┴───────────────┘\n",
       "</pre>\n"
      ],
      "text/plain": [
       "┏━━━━━━━━━━━━━━━━━━━━━━━━━━━━━━━━━┳━━━━━━━━━━━━━━━━━━━━━━━━┳━━━━━━━━━━━━━━━┓\n",
       "┃\u001b[1m \u001b[0m\u001b[1mLayer (type)                   \u001b[0m\u001b[1m \u001b[0m┃\u001b[1m \u001b[0m\u001b[1mOutput Shape          \u001b[0m\u001b[1m \u001b[0m┃\u001b[1m \u001b[0m\u001b[1m      Param #\u001b[0m\u001b[1m \u001b[0m┃\n",
       "┡━━━━━━━━━━━━━━━━━━━━━━━━━━━━━━━━━╇━━━━━━━━━━━━━━━━━━━━━━━━╇━━━━━━━━━━━━━━━┩\n",
       "│ dense (\u001b[38;5;33mDense\u001b[0m)                   │ (\u001b[38;5;45mNone\u001b[0m, \u001b[38;5;34m16\u001b[0m)             │           \u001b[38;5;34m208\u001b[0m │\n",
       "├─────────────────────────────────┼────────────────────────┼───────────────┤\n",
       "│ dense_1 (\u001b[38;5;33mDense\u001b[0m)                 │ (\u001b[38;5;45mNone\u001b[0m, \u001b[38;5;34m8\u001b[0m)              │           \u001b[38;5;34m136\u001b[0m │\n",
       "├─────────────────────────────────┼────────────────────────┼───────────────┤\n",
       "│ dense_2 (\u001b[38;5;33mDense\u001b[0m)                 │ (\u001b[38;5;45mNone\u001b[0m, \u001b[38;5;34m1\u001b[0m)              │             \u001b[38;5;34m9\u001b[0m │\n",
       "└─────────────────────────────────┴────────────────────────┴───────────────┘\n"
      ]
     },
     "metadata": {},
     "output_type": "display_data"
    },
    {
     "data": {
      "text/html": [
       "<pre style=\"white-space:pre;overflow-x:auto;line-height:normal;font-family:Menlo,'DejaVu Sans Mono',consolas,'Courier New',monospace\"><span style=\"font-weight: bold\"> Total params: </span><span style=\"color: #00af00; text-decoration-color: #00af00\">353</span> (1.38 KB)\n",
       "</pre>\n"
      ],
      "text/plain": [
       "\u001b[1m Total params: \u001b[0m\u001b[38;5;34m353\u001b[0m (1.38 KB)\n"
      ]
     },
     "metadata": {},
     "output_type": "display_data"
    },
    {
     "data": {
      "text/html": [
       "<pre style=\"white-space:pre;overflow-x:auto;line-height:normal;font-family:Menlo,'DejaVu Sans Mono',consolas,'Courier New',monospace\"><span style=\"font-weight: bold\"> Trainable params: </span><span style=\"color: #00af00; text-decoration-color: #00af00\">353</span> (1.38 KB)\n",
       "</pre>\n"
      ],
      "text/plain": [
       "\u001b[1m Trainable params: \u001b[0m\u001b[38;5;34m353\u001b[0m (1.38 KB)\n"
      ]
     },
     "metadata": {},
     "output_type": "display_data"
    },
    {
     "data": {
      "text/html": [
       "<pre style=\"white-space:pre;overflow-x:auto;line-height:normal;font-family:Menlo,'DejaVu Sans Mono',consolas,'Courier New',monospace\"><span style=\"font-weight: bold\"> Non-trainable params: </span><span style=\"color: #00af00; text-decoration-color: #00af00\">0</span> (0.00 B)\n",
       "</pre>\n"
      ],
      "text/plain": [
       "\u001b[1m Non-trainable params: \u001b[0m\u001b[38;5;34m0\u001b[0m (0.00 B)\n"
      ]
     },
     "metadata": {},
     "output_type": "display_data"
    },
    {
     "data": {
      "text/html": [
       "<pre style=\"white-space:pre;overflow-x:auto;line-height:normal;font-family:Menlo,'DejaVu Sans Mono',consolas,'Courier New',monospace\"><span style=\"font-weight: bold\">Model: \"sequential_1\"</span>\n",
       "</pre>\n"
      ],
      "text/plain": [
       "\u001b[1mModel: \"sequential_1\"\u001b[0m\n"
      ]
     },
     "metadata": {},
     "output_type": "display_data"
    },
    {
     "data": {
      "text/html": [
       "<pre style=\"white-space:pre;overflow-x:auto;line-height:normal;font-family:Menlo,'DejaVu Sans Mono',consolas,'Courier New',monospace\">┏━━━━━━━━━━━━━━━━━━━━━━━━━━━━━━━━━┳━━━━━━━━━━━━━━━━━━━━━━━━┳━━━━━━━━━━━━━━━┓\n",
       "┃<span style=\"font-weight: bold\"> Layer (type)                    </span>┃<span style=\"font-weight: bold\"> Output Shape           </span>┃<span style=\"font-weight: bold\">       Param # </span>┃\n",
       "┡━━━━━━━━━━━━━━━━━━━━━━━━━━━━━━━━━╇━━━━━━━━━━━━━━━━━━━━━━━━╇━━━━━━━━━━━━━━━┩\n",
       "│ reshape (<span style=\"color: #0087ff; text-decoration-color: #0087ff\">Reshape</span>)               │ (<span style=\"color: #00d7ff; text-decoration-color: #00d7ff\">None</span>, <span style=\"color: #00af00; text-decoration-color: #00af00\">12</span>, <span style=\"color: #00af00; text-decoration-color: #00af00\">1</span>)          │             <span style=\"color: #00af00; text-decoration-color: #00af00\">0</span> │\n",
       "├─────────────────────────────────┼────────────────────────┼───────────────┤\n",
       "│ conv1d (<span style=\"color: #0087ff; text-decoration-color: #0087ff\">Conv1D</span>)                 │ (<span style=\"color: #00d7ff; text-decoration-color: #00d7ff\">None</span>, <span style=\"color: #00af00; text-decoration-color: #00af00\">10</span>, <span style=\"color: #00af00; text-decoration-color: #00af00\">8</span>)          │            <span style=\"color: #00af00; text-decoration-color: #00af00\">32</span> │\n",
       "├─────────────────────────────────┼────────────────────────┼───────────────┤\n",
       "│ flatten (<span style=\"color: #0087ff; text-decoration-color: #0087ff\">Flatten</span>)               │ (<span style=\"color: #00d7ff; text-decoration-color: #00d7ff\">None</span>, <span style=\"color: #00af00; text-decoration-color: #00af00\">80</span>)             │             <span style=\"color: #00af00; text-decoration-color: #00af00\">0</span> │\n",
       "├─────────────────────────────────┼────────────────────────┼───────────────┤\n",
       "│ dense_3 (<span style=\"color: #0087ff; text-decoration-color: #0087ff\">Dense</span>)                 │ (<span style=\"color: #00d7ff; text-decoration-color: #00d7ff\">None</span>, <span style=\"color: #00af00; text-decoration-color: #00af00\">8</span>)              │           <span style=\"color: #00af00; text-decoration-color: #00af00\">648</span> │\n",
       "├─────────────────────────────────┼────────────────────────┼───────────────┤\n",
       "│ dense_4 (<span style=\"color: #0087ff; text-decoration-color: #0087ff\">Dense</span>)                 │ (<span style=\"color: #00d7ff; text-decoration-color: #00d7ff\">None</span>, <span style=\"color: #00af00; text-decoration-color: #00af00\">1</span>)              │             <span style=\"color: #00af00; text-decoration-color: #00af00\">9</span> │\n",
       "└─────────────────────────────────┴────────────────────────┴───────────────┘\n",
       "</pre>\n"
      ],
      "text/plain": [
       "┏━━━━━━━━━━━━━━━━━━━━━━━━━━━━━━━━━┳━━━━━━━━━━━━━━━━━━━━━━━━┳━━━━━━━━━━━━━━━┓\n",
       "┃\u001b[1m \u001b[0m\u001b[1mLayer (type)                   \u001b[0m\u001b[1m \u001b[0m┃\u001b[1m \u001b[0m\u001b[1mOutput Shape          \u001b[0m\u001b[1m \u001b[0m┃\u001b[1m \u001b[0m\u001b[1m      Param #\u001b[0m\u001b[1m \u001b[0m┃\n",
       "┡━━━━━━━━━━━━━━━━━━━━━━━━━━━━━━━━━╇━━━━━━━━━━━━━━━━━━━━━━━━╇━━━━━━━━━━━━━━━┩\n",
       "│ reshape (\u001b[38;5;33mReshape\u001b[0m)               │ (\u001b[38;5;45mNone\u001b[0m, \u001b[38;5;34m12\u001b[0m, \u001b[38;5;34m1\u001b[0m)          │             \u001b[38;5;34m0\u001b[0m │\n",
       "├─────────────────────────────────┼────────────────────────┼───────────────┤\n",
       "│ conv1d (\u001b[38;5;33mConv1D\u001b[0m)                 │ (\u001b[38;5;45mNone\u001b[0m, \u001b[38;5;34m10\u001b[0m, \u001b[38;5;34m8\u001b[0m)          │            \u001b[38;5;34m32\u001b[0m │\n",
       "├─────────────────────────────────┼────────────────────────┼───────────────┤\n",
       "│ flatten (\u001b[38;5;33mFlatten\u001b[0m)               │ (\u001b[38;5;45mNone\u001b[0m, \u001b[38;5;34m80\u001b[0m)             │             \u001b[38;5;34m0\u001b[0m │\n",
       "├─────────────────────────────────┼────────────────────────┼───────────────┤\n",
       "│ dense_3 (\u001b[38;5;33mDense\u001b[0m)                 │ (\u001b[38;5;45mNone\u001b[0m, \u001b[38;5;34m8\u001b[0m)              │           \u001b[38;5;34m648\u001b[0m │\n",
       "├─────────────────────────────────┼────────────────────────┼───────────────┤\n",
       "│ dense_4 (\u001b[38;5;33mDense\u001b[0m)                 │ (\u001b[38;5;45mNone\u001b[0m, \u001b[38;5;34m1\u001b[0m)              │             \u001b[38;5;34m9\u001b[0m │\n",
       "└─────────────────────────────────┴────────────────────────┴───────────────┘\n"
      ]
     },
     "metadata": {},
     "output_type": "display_data"
    },
    {
     "data": {
      "text/html": [
       "<pre style=\"white-space:pre;overflow-x:auto;line-height:normal;font-family:Menlo,'DejaVu Sans Mono',consolas,'Courier New',monospace\"><span style=\"font-weight: bold\"> Total params: </span><span style=\"color: #00af00; text-decoration-color: #00af00\">689</span> (2.69 KB)\n",
       "</pre>\n"
      ],
      "text/plain": [
       "\u001b[1m Total params: \u001b[0m\u001b[38;5;34m689\u001b[0m (2.69 KB)\n"
      ]
     },
     "metadata": {},
     "output_type": "display_data"
    },
    {
     "data": {
      "text/html": [
       "<pre style=\"white-space:pre;overflow-x:auto;line-height:normal;font-family:Menlo,'DejaVu Sans Mono',consolas,'Courier New',monospace\"><span style=\"font-weight: bold\"> Trainable params: </span><span style=\"color: #00af00; text-decoration-color: #00af00\">689</span> (2.69 KB)\n",
       "</pre>\n"
      ],
      "text/plain": [
       "\u001b[1m Trainable params: \u001b[0m\u001b[38;5;34m689\u001b[0m (2.69 KB)\n"
      ]
     },
     "metadata": {},
     "output_type": "display_data"
    },
    {
     "data": {
      "text/html": [
       "<pre style=\"white-space:pre;overflow-x:auto;line-height:normal;font-family:Menlo,'DejaVu Sans Mono',consolas,'Courier New',monospace\"><span style=\"font-weight: bold\"> Non-trainable params: </span><span style=\"color: #00af00; text-decoration-color: #00af00\">0</span> (0.00 B)\n",
       "</pre>\n"
      ],
      "text/plain": [
       "\u001b[1m Non-trainable params: \u001b[0m\u001b[38;5;34m0\u001b[0m (0.00 B)\n"
      ]
     },
     "metadata": {},
     "output_type": "display_data"
    }
   ],
   "source": [
    "import tensorflow as tf\n",
    "from tensorflow import keras\n",
    "from tensorflow.keras import layers\n",
    "\n",
    "# Model 1: Small Dense NN\n",
    "def build_dense_model(input_shape):\n",
    "    model = keras.Sequential([\n",
    "        layers.Input(shape=input_shape),\n",
    "        layers.Dense(16, activation='relu'),\n",
    "        layers.Dense(8, activation='relu'),\n",
    "        layers.Dense(1)\n",
    "    ])\n",
    "    return model\n",
    "\n",
    "# Model 2: Small 1D CNN\n",
    "def build_cnn_model(input_shape):\n",
    "    model = keras.Sequential([\n",
    "        layers.Reshape((input_shape[0], 1), input_shape=input_shape),\n",
    "        layers.Conv1D(8, 3, activation='relu'),\n",
    "        layers.Flatten(),\n",
    "        layers.Dense(8, activation='relu'),\n",
    "        layers.Dense(1)\n",
    "    ])\n",
    "    return model\n",
    "\n",
    "dense_model = build_dense_model((X_train.shape[1],))\n",
    "cnn_model = build_cnn_model((X_train.shape[1],))\n",
    "\n",
    "dense_model.summary()\n",
    "cnn_model.summary()"
   ]
  },
  {
   "cell_type": "markdown",
   "id": "4e4672cf",
   "metadata": {},
   "source": [
    "## 4. Model Training\n",
    "\n",
    "We train both models using mean squared error loss and early stopping to avoid overfitting."
   ]
  },
  {
   "cell_type": "code",
   "execution_count": 5,
   "id": "3b131fb3",
   "metadata": {},
   "outputs": [
    {
     "name": "stdout",
     "output_type": "stream",
     "text": [
      "Epoch 1/50\n",
      "211/211 - 1s - 5ms/step - loss: 1576.8065 - mae: 14.8242 - val_loss: 1316.0898 - val_mae: 10.7198\n",
      "Epoch 2/50\n",
      "211/211 - 0s - 1ms/step - loss: 776.3753 - mae: 8.1013 - val_loss: 238.4472 - val_mae: 5.7373\n",
      "Epoch 3/50\n",
      "211/211 - 0s - 1ms/step - loss: 60.2246 - mae: 3.6787 - val_loss: 9.3892 - val_mae: 2.3751\n",
      "Epoch 4/50\n",
      "211/211 - 0s - 1ms/step - loss: 7.5351 - mae: 2.0314 - val_loss: 4.8558 - val_mae: 1.7294\n",
      "Epoch 5/50\n",
      "211/211 - 0s - 1ms/step - loss: 4.6464 - mae: 1.5946 - val_loss: 3.3536 - val_mae: 1.4238\n",
      "Epoch 6/50\n",
      "211/211 - 0s - 1ms/step - loss: 3.4675 - mae: 1.3674 - val_loss: 2.6171 - val_mae: 1.2652\n",
      "Epoch 7/50\n",
      "211/211 - 0s - 1ms/step - loss: 2.7685 - mae: 1.2214 - val_loss: 2.1431 - val_mae: 1.1372\n",
      "Epoch 8/50\n",
      "211/211 - 0s - 1ms/step - loss: 2.2963 - mae: 1.1076 - val_loss: 1.7478 - val_mae: 1.0210\n",
      "Epoch 9/50\n",
      "211/211 - 0s - 1ms/step - loss: 1.9139 - mae: 1.0033 - val_loss: 1.4384 - val_mae: 0.9206\n",
      "Epoch 10/50\n",
      "211/211 - 0s - 1ms/step - loss: 1.5984 - mae: 0.9049 - val_loss: 1.2313 - val_mae: 0.8495\n",
      "Epoch 11/50\n",
      "211/211 - 0s - 1ms/step - loss: 1.3463 - mae: 0.8224 - val_loss: 1.0146 - val_mae: 0.7661\n",
      "Epoch 12/50\n",
      "211/211 - 0s - 1ms/step - loss: 1.1300 - mae: 0.7413 - val_loss: 0.8313 - val_mae: 0.6844\n",
      "Epoch 13/50\n",
      "211/211 - 0s - 1ms/step - loss: 0.9436 - mae: 0.6675 - val_loss: 0.6948 - val_mae: 0.6210\n",
      "Epoch 14/50\n",
      "211/211 - 0s - 1ms/step - loss: 0.7971 - mae: 0.6068 - val_loss: 0.5725 - val_mae: 0.5547\n",
      "Epoch 15/50\n",
      "211/211 - 0s - 1ms/step - loss: 0.6834 - mae: 0.5511 - val_loss: 0.4924 - val_mae: 0.5136\n",
      "Epoch 16/50\n",
      "211/211 - 0s - 1ms/step - loss: 0.5850 - mae: 0.5086 - val_loss: 0.4302 - val_mae: 0.4768\n",
      "Epoch 17/50\n",
      "211/211 - 0s - 1ms/step - loss: 0.5099 - mae: 0.4723 - val_loss: 0.3856 - val_mae: 0.4528\n",
      "Epoch 18/50\n",
      "211/211 - 0s - 1ms/step - loss: 0.4515 - mae: 0.4440 - val_loss: 0.3348 - val_mae: 0.4185\n",
      "Epoch 19/50\n",
      "211/211 - 0s - 1ms/step - loss: 0.4101 - mae: 0.4233 - val_loss: 0.3038 - val_mae: 0.3964\n",
      "Epoch 20/50\n",
      "211/211 - 0s - 1ms/step - loss: 0.3757 - mae: 0.4060 - val_loss: 0.2879 - val_mae: 0.3834\n",
      "Epoch 21/50\n",
      "211/211 - 0s - 1ms/step - loss: 0.3515 - mae: 0.3946 - val_loss: 0.2637 - val_mae: 0.3696\n",
      "Epoch 22/50\n",
      "211/211 - 0s - 1ms/step - loss: 0.3287 - mae: 0.3827 - val_loss: 0.2805 - val_mae: 0.3839\n",
      "Epoch 23/50\n",
      "211/211 - 0s - 1ms/step - loss: 0.3127 - mae: 0.3767 - val_loss: 0.2358 - val_mae: 0.3508\n",
      "Epoch 24/50\n",
      "211/211 - 0s - 1ms/step - loss: 0.2941 - mae: 0.3636 - val_loss: 0.2259 - val_mae: 0.3460\n",
      "Epoch 25/50\n",
      "211/211 - 0s - 1ms/step - loss: 0.2777 - mae: 0.3535 - val_loss: 0.2121 - val_mae: 0.3339\n",
      "Epoch 26/50\n",
      "211/211 - 0s - 1ms/step - loss: 0.2576 - mae: 0.3421 - val_loss: 0.2084 - val_mae: 0.3337\n",
      "Epoch 27/50\n",
      "211/211 - 0s - 1ms/step - loss: 0.2427 - mae: 0.3302 - val_loss: 0.1889 - val_mae: 0.3134\n",
      "Epoch 28/50\n",
      "211/211 - 0s - 1ms/step - loss: 0.2299 - mae: 0.3228 - val_loss: 0.2331 - val_mae: 0.3560\n",
      "Epoch 29/50\n",
      "211/211 - 0s - 1ms/step - loss: 0.2191 - mae: 0.3168 - val_loss: 0.1863 - val_mae: 0.3178\n",
      "Epoch 30/50\n",
      "211/211 - 0s - 1ms/step - loss: 0.2061 - mae: 0.3073 - val_loss: 0.1652 - val_mae: 0.2973\n",
      "Epoch 31/50\n",
      "211/211 - 0s - 1ms/step - loss: 0.1922 - mae: 0.2942 - val_loss: 0.1738 - val_mae: 0.3036\n",
      "Epoch 32/50\n",
      "211/211 - 0s - 1ms/step - loss: 0.1832 - mae: 0.2890 - val_loss: 0.1472 - val_mae: 0.2766\n",
      "Epoch 33/50\n",
      "211/211 - 0s - 1ms/step - loss: 0.1730 - mae: 0.2769 - val_loss: 0.1372 - val_mae: 0.2672\n",
      "Epoch 34/50\n",
      "211/211 - 0s - 1ms/step - loss: 0.1674 - mae: 0.2759 - val_loss: 0.1274 - val_mae: 0.2588\n",
      "Epoch 35/50\n",
      "211/211 - 0s - 1ms/step - loss: 0.1624 - mae: 0.2705 - val_loss: 0.1211 - val_mae: 0.2506\n",
      "Epoch 36/50\n",
      "211/211 - 0s - 1ms/step - loss: 0.1499 - mae: 0.2602 - val_loss: 0.1245 - val_mae: 0.2546\n",
      "Epoch 37/50\n",
      "211/211 - 0s - 1ms/step - loss: 0.1478 - mae: 0.2609 - val_loss: 0.1091 - val_mae: 0.2375\n",
      "Epoch 38/50\n",
      "211/211 - 0s - 1ms/step - loss: 0.1395 - mae: 0.2520 - val_loss: 0.1140 - val_mae: 0.2464\n",
      "Epoch 39/50\n",
      "211/211 - 0s - 1ms/step - loss: 0.1310 - mae: 0.2451 - val_loss: 0.1170 - val_mae: 0.2420\n",
      "Epoch 40/50\n",
      "211/211 - 0s - 1ms/step - loss: 0.1335 - mae: 0.2491 - val_loss: 0.0900 - val_mae: 0.2175\n",
      "Epoch 41/50\n",
      "211/211 - 0s - 2ms/step - loss: 0.1166 - mae: 0.2289 - val_loss: 0.1068 - val_mae: 0.2395\n",
      "Epoch 42/50\n",
      "211/211 - 0s - 1ms/step - loss: 0.1246 - mae: 0.2417 - val_loss: 0.0969 - val_mae: 0.2283\n",
      "Epoch 43/50\n",
      "211/211 - 0s - 1ms/step - loss: 0.1082 - mae: 0.2254 - val_loss: 0.0983 - val_mae: 0.2259\n",
      "Epoch 44/50\n",
      "211/211 - 0s - 1ms/step - loss: 0.1043 - mae: 0.2209 - val_loss: 0.0816 - val_mae: 0.2077\n",
      "Epoch 45/50\n",
      "211/211 - 0s - 1ms/step - loss: 0.0955 - mae: 0.2125 - val_loss: 0.0816 - val_mae: 0.2058\n",
      "Epoch 46/50\n",
      "211/211 - 0s - 1ms/step - loss: 0.0969 - mae: 0.2132 - val_loss: 0.0808 - val_mae: 0.2031\n",
      "Epoch 47/50\n",
      "211/211 - 0s - 1ms/step - loss: 0.0887 - mae: 0.2028 - val_loss: 0.0664 - val_mae: 0.1875\n",
      "Epoch 48/50\n",
      "211/211 - 0s - 1ms/step - loss: 0.0825 - mae: 0.1972 - val_loss: 0.0636 - val_mae: 0.1865\n",
      "Epoch 49/50\n",
      "211/211 - 0s - 1ms/step - loss: 0.0853 - mae: 0.2016 - val_loss: 0.0570 - val_mae: 0.1748\n",
      "Epoch 50/50\n",
      "211/211 - 0s - 1ms/step - loss: 0.0772 - mae: 0.1896 - val_loss: 0.0699 - val_mae: 0.1985\n",
      "Epoch 1/50\n",
      "211/211 - 1s - 5ms/step - loss: 1512.1746 - mae: 14.1581 - val_loss: 1167.8163 - val_mae: 9.0765\n",
      "Epoch 2/50\n",
      "211/211 - 0s - 1ms/step - loss: 587.5650 - mae: 7.4599 - val_loss: 133.3890 - val_mae: 5.7756\n",
      "Epoch 3/50\n",
      "211/211 - 0s - 1ms/step - loss: 50.2700 - mae: 4.5216 - val_loss: 22.3823 - val_mae: 3.6053\n",
      "Epoch 4/50\n",
      "211/211 - 0s - 1ms/step - loss: 18.2631 - mae: 3.2288 - val_loss: 13.8750 - val_mae: 2.8281\n",
      "Epoch 5/50\n",
      "211/211 - 0s - 1ms/step - loss: 12.2123 - mae: 2.6109 - val_loss: 9.3294 - val_mae: 2.2800\n",
      "Epoch 6/50\n",
      "211/211 - 0s - 1ms/step - loss: 8.3447 - mae: 2.1402 - val_loss: 6.3512 - val_mae: 1.8902\n",
      "Epoch 7/50\n",
      "211/211 - 0s - 1ms/step - loss: 5.6853 - mae: 1.7549 - val_loss: 4.2748 - val_mae: 1.5636\n",
      "Epoch 8/50\n",
      "211/211 - 0s - 1ms/step - loss: 3.8512 - mae: 1.4456 - val_loss: 2.9030 - val_mae: 1.2954\n",
      "Epoch 9/50\n",
      "211/211 - 0s - 1ms/step - loss: 2.6881 - mae: 1.2103 - val_loss: 2.0844 - val_mae: 1.0945\n",
      "Epoch 10/50\n",
      "211/211 - 0s - 1ms/step - loss: 2.0211 - mae: 1.0566 - val_loss: 1.7044 - val_mae: 0.9910\n",
      "Epoch 11/50\n",
      "211/211 - 0s - 1ms/step - loss: 1.6503 - mae: 0.9537 - val_loss: 1.3999 - val_mae: 0.9057\n",
      "Epoch 12/50\n",
      "211/211 - 0s - 2ms/step - loss: 1.4067 - mae: 0.8767 - val_loss: 1.2340 - val_mae: 0.8498\n",
      "Epoch 13/50\n",
      "211/211 - 0s - 1ms/step - loss: 1.2383 - mae: 0.8224 - val_loss: 1.1041 - val_mae: 0.8087\n",
      "Epoch 14/50\n",
      "211/211 - 0s - 1ms/step - loss: 1.1102 - mae: 0.7741 - val_loss: 0.9831 - val_mae: 0.7513\n",
      "Epoch 15/50\n",
      "211/211 - 0s - 1ms/step - loss: 1.0130 - mae: 0.7396 - val_loss: 0.9135 - val_mae: 0.7239\n",
      "Epoch 16/50\n",
      "211/211 - 0s - 1ms/step - loss: 0.9073 - mae: 0.6976 - val_loss: 0.8371 - val_mae: 0.6892\n",
      "Epoch 17/50\n",
      "211/211 - 0s - 1ms/step - loss: 0.8383 - mae: 0.6683 - val_loss: 0.7572 - val_mae: 0.6594\n",
      "Epoch 18/50\n",
      "211/211 - 0s - 1ms/step - loss: 0.7676 - mae: 0.6378 - val_loss: 0.6822 - val_mae: 0.6130\n",
      "Epoch 19/50\n",
      "211/211 - 0s - 1ms/step - loss: 0.7118 - mae: 0.6068 - val_loss: 0.6576 - val_mae: 0.5992\n",
      "Epoch 20/50\n",
      "211/211 - 0s - 1ms/step - loss: 0.6476 - mae: 0.5764 - val_loss: 0.6016 - val_mae: 0.5833\n",
      "Epoch 21/50\n",
      "211/211 - 0s - 2ms/step - loss: 0.6130 - mae: 0.5596 - val_loss: 0.5357 - val_mae: 0.5494\n",
      "Epoch 22/50\n",
      "211/211 - 0s - 1ms/step - loss: 0.5669 - mae: 0.5358 - val_loss: 0.6451 - val_mae: 0.5980\n",
      "Epoch 23/50\n",
      "211/211 - 0s - 1ms/step - loss: 0.5405 - mae: 0.5243 - val_loss: 0.4049 - val_mae: 0.4760\n",
      "Epoch 24/50\n",
      "211/211 - 0s - 1ms/step - loss: 0.4971 - mae: 0.4983 - val_loss: 0.3745 - val_mae: 0.4589\n",
      "Epoch 25/50\n",
      "211/211 - 0s - 1ms/step - loss: 0.4602 - mae: 0.4797 - val_loss: 0.3615 - val_mae: 0.4568\n",
      "Epoch 26/50\n",
      "211/211 - 0s - 1ms/step - loss: 0.4449 - mae: 0.4705 - val_loss: 0.3802 - val_mae: 0.4478\n",
      "Epoch 27/50\n",
      "211/211 - 0s - 1ms/step - loss: 0.4181 - mae: 0.4568 - val_loss: 0.3163 - val_mae: 0.4228\n",
      "Epoch 28/50\n",
      "211/211 - 0s - 1ms/step - loss: 0.4045 - mae: 0.4466 - val_loss: 0.3014 - val_mae: 0.4060\n",
      "Epoch 29/50\n",
      "211/211 - 0s - 2ms/step - loss: 0.3888 - mae: 0.4369 - val_loss: 0.2972 - val_mae: 0.4082\n",
      "Epoch 30/50\n",
      "211/211 - 0s - 1ms/step - loss: 0.3641 - mae: 0.4230 - val_loss: 0.2971 - val_mae: 0.4174\n",
      "Epoch 31/50\n",
      "211/211 - 0s - 1ms/step - loss: 0.3592 - mae: 0.4205 - val_loss: 0.2815 - val_mae: 0.3969\n",
      "Epoch 32/50\n",
      "211/211 - 0s - 1ms/step - loss: 0.3317 - mae: 0.4017 - val_loss: 0.2389 - val_mae: 0.3642\n",
      "Epoch 33/50\n",
      "211/211 - 0s - 1ms/step - loss: 0.3226 - mae: 0.3943 - val_loss: 0.2287 - val_mae: 0.3569\n",
      "Epoch 34/50\n",
      "211/211 - 0s - 1ms/step - loss: 0.2994 - mae: 0.3763 - val_loss: 0.2232 - val_mae: 0.3539\n",
      "Epoch 35/50\n",
      "211/211 - 0s - 1ms/step - loss: 0.3049 - mae: 0.3801 - val_loss: 0.2178 - val_mae: 0.3473\n",
      "Epoch 36/50\n",
      "211/211 - 0s - 1ms/step - loss: 0.2875 - mae: 0.3690 - val_loss: 0.2385 - val_mae: 0.3573\n",
      "Epoch 37/50\n",
      "211/211 - 0s - 1ms/step - loss: 0.2783 - mae: 0.3605 - val_loss: 0.2432 - val_mae: 0.3816\n",
      "Epoch 38/50\n",
      "211/211 - 0s - 1ms/step - loss: 0.2705 - mae: 0.3591 - val_loss: 0.1738 - val_mae: 0.3110\n",
      "Epoch 39/50\n",
      "211/211 - 0s - 1ms/step - loss: 0.2327 - mae: 0.3333 - val_loss: 0.1718 - val_mae: 0.3082\n",
      "Epoch 40/50\n",
      "211/211 - 0s - 1ms/step - loss: 0.2145 - mae: 0.3255 - val_loss: 0.1408 - val_mae: 0.2847\n",
      "Epoch 41/50\n",
      "211/211 - 0s - 2ms/step - loss: 0.2078 - mae: 0.3211 - val_loss: 0.1507 - val_mae: 0.2893\n",
      "Epoch 42/50\n",
      "211/211 - 0s - 1ms/step - loss: 0.2112 - mae: 0.3238 - val_loss: 0.1963 - val_mae: 0.3238\n",
      "Epoch 43/50\n",
      "211/211 - 0s - 1ms/step - loss: 0.1951 - mae: 0.3134 - val_loss: 0.1864 - val_mae: 0.3259\n",
      "Epoch 44/50\n",
      "211/211 - 0s - 1ms/step - loss: 0.1854 - mae: 0.3034 - val_loss: 0.1470 - val_mae: 0.2903\n",
      "Epoch 45/50\n",
      "211/211 - 0s - 1ms/step - loss: 0.2380 - mae: 0.3390 - val_loss: 0.1529 - val_mae: 0.2969\n"
     ]
    }
   ],
   "source": [
    "callbacks = [keras.callbacks.EarlyStopping(patience=5, restore_best_weights=True)]\n",
    "\n",
    "dense_model.compile(optimizer='adam', loss='mse', metrics=['mae'])\n",
    "cnn_model.compile(optimizer='adam', loss='mse', metrics=['mae'])\n",
    "\n",
    "history_dense = dense_model.fit(\n",
    "    X_train, y_train, validation_split=0.1, epochs=50, batch_size=32, callbacks=callbacks, verbose=2\n",
    ")\n",
    "history_cnn = cnn_model.fit(\n",
    "    X_train, y_train, validation_split=0.1, epochs=50, batch_size=32, callbacks=callbacks, verbose=2\n",
    ")"
   ]
  },
  {
   "cell_type": "markdown",
   "id": "ba6d066c",
   "metadata": {},
   "source": [
    "## 5. Model Conversion to TensorFlow Lite\n",
    "\n",
    "We convert both models to TensorFlow Lite format with post-training quantization to minimize size for embedded deployment."
   ]
  },
  {
   "cell_type": "code",
   "execution_count": 6,
   "id": "f3ed77c2",
   "metadata": {},
   "outputs": [
    {
     "name": "stderr",
     "output_type": "stream",
     "text": [
      "WARNING:absl:You are saving your model as an HDF5 file via `model.save()` or `keras.saving.save_model(model)`. This file format is considered legacy. We recommend using instead the native Keras format, e.g. `model.save('my_model.keras')` or `keras.saving.save_model(model, 'my_model.keras')`. \n",
      "WARNING:absl:You are saving your model as an HDF5 file via `model.save()` or `keras.saving.save_model(model)`. This file format is considered legacy. We recommend using instead the native Keras format, e.g. `model.save('my_model.keras')` or `keras.saving.save_model(model, 'my_model.keras')`. \n"
     ]
    },
    {
     "name": "stdout",
     "output_type": "stream",
     "text": [
      "INFO:tensorflow:Assets written to: C:\\Users\\ROG\\AppData\\Local\\Temp\\tmpbji0mp_l\\assets\n"
     ]
    },
    {
     "name": "stderr",
     "output_type": "stream",
     "text": [
      "INFO:tensorflow:Assets written to: C:\\Users\\ROG\\AppData\\Local\\Temp\\tmpbji0mp_l\\assets\n"
     ]
    },
    {
     "name": "stdout",
     "output_type": "stream",
     "text": [
      "Saved artifact at 'C:\\Users\\ROG\\AppData\\Local\\Temp\\tmpbji0mp_l'. The following endpoints are available:\n",
      "\n",
      "* Endpoint 'serve'\n",
      "  args_0 (POSITIONAL_ONLY): TensorSpec(shape=(None, 12), dtype=tf.float32, name='keras_tensor')\n",
      "Output Type:\n",
      "  TensorSpec(shape=(None, 1), dtype=tf.float32, name=None)\n",
      "Captures:\n",
      "  2152107720336: TensorSpec(shape=(), dtype=tf.resource, name=None)\n",
      "  2152108248528: TensorSpec(shape=(), dtype=tf.resource, name=None)\n",
      "  2152108247760: TensorSpec(shape=(), dtype=tf.resource, name=None)\n",
      "  2152108249680: TensorSpec(shape=(), dtype=tf.resource, name=None)\n",
      "  2152108249488: TensorSpec(shape=(), dtype=tf.resource, name=None)\n",
      "  2152108248336: TensorSpec(shape=(), dtype=tf.resource, name=None)\n"
     ]
    },
    {
     "name": "stderr",
     "output_type": "stream",
     "text": [
      "C:\\Users\\ROG\\AppData\\Roaming\\Python\\Python311\\site-packages\\tensorflow\\lite\\python\\convert.py:997: UserWarning: Statistics for quantized inputs were expected, but not specified; continuing anyway.\n",
      "  warnings.warn(\n"
     ]
    },
    {
     "name": "stdout",
     "output_type": "stream",
     "text": [
      "INFO:tensorflow:Assets written to: C:\\Users\\ROG\\AppData\\Local\\Temp\\tmpz7w5n7gz\\assets\n"
     ]
    },
    {
     "name": "stderr",
     "output_type": "stream",
     "text": [
      "INFO:tensorflow:Assets written to: C:\\Users\\ROG\\AppData\\Local\\Temp\\tmpz7w5n7gz\\assets\n"
     ]
    },
    {
     "name": "stdout",
     "output_type": "stream",
     "text": [
      "Saved artifact at 'C:\\Users\\ROG\\AppData\\Local\\Temp\\tmpz7w5n7gz'. The following endpoints are available:\n",
      "\n",
      "* Endpoint 'serve'\n",
      "  args_0 (POSITIONAL_ONLY): TensorSpec(shape=(None, 12), dtype=tf.float32, name='keras_tensor_4')\n",
      "Output Type:\n",
      "  TensorSpec(shape=(None, 1), dtype=tf.float32, name=None)\n",
      "Captures:\n",
      "  2152108247952: TensorSpec(shape=(), dtype=tf.resource, name=None)\n",
      "  2152108251408: TensorSpec(shape=(), dtype=tf.resource, name=None)\n",
      "  2152108250448: TensorSpec(shape=(), dtype=tf.resource, name=None)\n",
      "  2152108251792: TensorSpec(shape=(), dtype=tf.resource, name=None)\n",
      "  2152108251024: TensorSpec(shape=(), dtype=tf.resource, name=None)\n",
      "  2152108252944: TensorSpec(shape=(), dtype=tf.resource, name=None)\n"
     ]
    },
    {
     "name": "stderr",
     "output_type": "stream",
     "text": [
      "C:\\Users\\ROG\\AppData\\Roaming\\Python\\Python311\\site-packages\\tensorflow\\lite\\python\\convert.py:997: UserWarning: Statistics for quantized inputs were expected, but not specified; continuing anyway.\n",
      "  warnings.warn(\n"
     ]
    },
    {
     "data": {
      "text/plain": [
       "{'Dense Original': 32.0,\n",
       " 'Dense TFLite': 3.140625,\n",
       " 'CNN Original': 41.5703125,\n",
       " 'CNN TFLite': 5.015625}"
      ]
     },
     "execution_count": 6,
     "metadata": {},
     "output_type": "execute_result"
    }
   ],
   "source": [
    "import os\n",
    "os.makedirs('Models', exist_ok=True)\n",
    "\n",
    "def convert_to_tflite(model, model_name, quantize=True):\n",
    "    converter = tf.lite.TFLiteConverter.from_keras_model(model)\n",
    "    if quantize:\n",
    "        converter.optimizations = [tf.lite.Optimize.DEFAULT]\n",
    "        def representative_dataset():\n",
    "            for i in range(100):\n",
    "                yield [X_train[i:i+1].astype(np.float32)]\n",
    "        converter.representative_dataset = representative_dataset\n",
    "        converter.target_spec.supported_ops = [tf.lite.OpsSet.TFLITE_BUILTINS_INT8]\n",
    "        converter.inference_input_type = tf.int8\n",
    "        converter.inference_output_type = tf.int8\n",
    "    tflite_model = converter.convert()\n",
    "    with open(f'Models/{model_name}.tflite', 'wb') as f:\n",
    "        f.write(tflite_model)\n",
    "    return tflite_model\n",
    "\n",
    "dense_model.save('Models/dense_model.h5')\n",
    "cnn_model.save('Models/cnn_model.h5')\n",
    "\n",
    "tflite_dense = convert_to_tflite(dense_model, 'dense_model_quant')\n",
    "tflite_cnn = convert_to_tflite(cnn_model, 'cnn_model_quant')\n",
    "\n",
    "def get_file_size(path):\n",
    "    return os.path.getsize(path) / 1024  # KB\n",
    "\n",
    "sizes = {\n",
    "    'Dense Original': get_file_size('Models/dense_model.h5'),\n",
    "    'Dense TFLite': get_file_size('Models/dense_model_quant.tflite'),\n",
    "    'CNN Original': get_file_size('Models/cnn_model.h5'),\n",
    "    'CNN TFLite': get_file_size('Models/cnn_model_quant.tflite'),\n",
    "}\n",
    "sizes"
   ]
  },
  {
   "cell_type": "markdown",
   "id": "1994ba93",
   "metadata": {},
   "source": [
    "## 6. Model Evaluation\n",
    "\n",
    "We evaluate both the original and quantized models on the test set and compare their accuracy and size."
   ]
  },
  {
   "cell_type": "code",
   "execution_count": 7,
   "id": "a41c21ba",
   "metadata": {},
   "outputs": [
    {
     "name": "stdout",
     "output_type": "stream",
     "text": [
      "Dense Model - Test MAE: 0.186\n",
      "CNN Model   - Test MAE: 0.306\n"
     ]
    }
   ],
   "source": [
    "dense_eval = dense_model.evaluate(X_test, y_test, verbose=0)\n",
    "cnn_eval = cnn_model.evaluate(X_test, y_test, verbose=0)\n",
    "\n",
    "print(f\"Dense Model - Test MAE: {dense_eval[1]:.3f}\")\n",
    "print(f\"CNN Model   - Test MAE: {cnn_eval[1]:.3f}\")"
   ]
  },
  {
   "cell_type": "code",
   "execution_count": 8,
   "id": "6d82f788",
   "metadata": {},
   "outputs": [
    {
     "name": "stdout",
     "output_type": "stream",
     "text": [
      "Dense TFLite Model - Test MAE: 0.657\n",
      "CNN TFLite Model   - Test MAE: 0.945\n"
     ]
    }
   ],
   "source": [
    "def evaluate_tflite_model(tflite_path, X_test, y_test):\n",
    "    interpreter = tf.lite.Interpreter(model_path=tflite_path)\n",
    "    interpreter.allocate_tensors()\n",
    "    input_details = interpreter.get_input_details()\n",
    "    output_details = interpreter.get_output_details()\n",
    "    \n",
    "    y_preds = []\n",
    "    for i in range(len(X_test)):\n",
    "        x = X_test[i:i+1].astype(np.float32)\n",
    "        scale, zero_point = input_details[0]['quantization']\n",
    "        x_q = (x / scale + zero_point).astype(np.int8)\n",
    "        interpreter.set_tensor(input_details[0]['index'], x_q)\n",
    "        interpreter.invoke()\n",
    "        y_q = interpreter.get_tensor(output_details[0]['index'])\n",
    "        y_pred = (y_q.astype(np.float32) - output_details[0]['quantization'][1]) * output_details[0]['quantization'][0]\n",
    "        y_preds.append(y_pred[0][0])\n",
    "    y_preds = np.array(y_preds)\n",
    "    mae = np.mean(np.abs(y_preds - y_test))\n",
    "    return mae\n",
    "\n",
    "dense_tflite_mae = evaluate_tflite_model('Models/dense_model_quant.tflite', X_test, y_test)\n",
    "cnn_tflite_mae = evaluate_tflite_model('Models/cnn_model_quant.tflite', X_test, y_test)\n",
    "\n",
    "print(f\"Dense TFLite Model - Test MAE: {dense_tflite_mae:.3f}\")\n",
    "print(f\"CNN TFLite Model   - Test MAE: {cnn_tflite_mae:.3f}\")"
   ]
  },
  {
   "cell_type": "markdown",
   "id": "e513e526",
   "metadata": {},
   "source": [
    "### Model Comparison Table\n",
    "\n",
    "Below is a summary of model sizes and test MAE for all models."
   ]
  },
  {
   "cell_type": "code",
   "execution_count": 9,
   "id": "9fab18d6",
   "metadata": {},
   "outputs": [
    {
     "data": {
      "text/html": [
       "<div>\n",
       "<style scoped>\n",
       "    .dataframe tbody tr th:only-of-type {\n",
       "        vertical-align: middle;\n",
       "    }\n",
       "\n",
       "    .dataframe tbody tr th {\n",
       "        vertical-align: top;\n",
       "    }\n",
       "\n",
       "    .dataframe thead th {\n",
       "        text-align: right;\n",
       "    }\n",
       "</style>\n",
       "<table border=\"1\" class=\"dataframe\">\n",
       "  <thead>\n",
       "    <tr style=\"text-align: right;\">\n",
       "      <th></th>\n",
       "      <th>Model</th>\n",
       "      <th>Size (KB)</th>\n",
       "      <th>Test MAE</th>\n",
       "    </tr>\n",
       "  </thead>\n",
       "  <tbody>\n",
       "    <tr>\n",
       "      <th>0</th>\n",
       "      <td>Dense Original</td>\n",
       "      <td>32.000000</td>\n",
       "      <td>0.185854</td>\n",
       "    </tr>\n",
       "    <tr>\n",
       "      <th>1</th>\n",
       "      <td>Dense TFLite</td>\n",
       "      <td>3.140625</td>\n",
       "      <td>0.656901</td>\n",
       "    </tr>\n",
       "    <tr>\n",
       "      <th>2</th>\n",
       "      <td>CNN Original</td>\n",
       "      <td>41.570312</td>\n",
       "      <td>0.305508</td>\n",
       "    </tr>\n",
       "    <tr>\n",
       "      <th>3</th>\n",
       "      <td>CNN TFLite</td>\n",
       "      <td>5.015625</td>\n",
       "      <td>0.945104</td>\n",
       "    </tr>\n",
       "  </tbody>\n",
       "</table>\n",
       "</div>"
      ],
      "text/plain": [
       "            Model  Size (KB)  Test MAE\n",
       "0  Dense Original  32.000000  0.185854\n",
       "1    Dense TFLite   3.140625  0.656901\n",
       "2    CNN Original  41.570312  0.305508\n",
       "3      CNN TFLite   5.015625  0.945104"
      ]
     },
     "execution_count": 9,
     "metadata": {},
     "output_type": "execute_result"
    }
   ],
   "source": [
    "import pandas as pd\n",
    "\n",
    "results = pd.DataFrame({\n",
    "    'Model': ['Dense Original', 'Dense TFLite', 'CNN Original', 'CNN TFLite'],\n",
    "    'Size (KB)': [sizes['Dense Original'], sizes['Dense TFLite'], sizes['CNN Original'], sizes['CNN TFLite']],\n",
    "    'Test MAE': [dense_eval[1], dense_tflite_mae, cnn_eval[1], cnn_tflite_mae]\n",
    "})\n",
    "results"
   ]
  },
  {
   "cell_type": "markdown",
   "id": "b4692a4e",
   "metadata": {},
   "source": [
    "## 7. Visualization\n",
    "\n",
    "We visualize the performance and size of the models using bar plots and error distributions."
   ]
  },
  {
   "cell_type": "code",
   "execution_count": 14,
   "id": "a3e3222e",
   "metadata": {},
   "outputs": [
    {
     "data": {
      "image/png": "[encoded data removed]",
      "text/plain": [
       "<Figure size 600x400 with 1 Axes>"
      ]
     },
     "metadata": {},
     "output_type": "display_data"
    }
   ],
   "source": [
    "import matplotlib.pyplot as plt\n",
    "\n",
    "# 1. Model Size Comparison\n",
    "plt.figure(figsize=(6,4))\n",
    "plt.bar(results['Model'], results['Size (KB)'], color=['#4e79a7','#f28e2b','#76b7b2','#e15759'])\n",
    "plt.ylabel('Model Size (KB)')\n",
    "plt.title('Model Size Comparison')\n",
    "plt.xticks(rotation=15)\n",
    "plt.tight_layout()\n",
    "plt.savefig('Figures/model_size_comparison.png')\n",
    "plt.show()"
   ]
  },
  {
   "cell_type": "code",
   "execution_count": 15,
   "id": "5d6b5293",
   "metadata": {},
   "outputs": [
    {
     "data": {
      "image/png": "[encoded data removed]",
      "text/plain": [
       "<Figure size 600x400 with 1 Axes>"
      ]
     },
     "metadata": {},
     "output_type": "display_data"
    }
   ],
   "source": [
    "# 2. Test MAE Comparison\n",
    "plt.figure(figsize=(6,4))\n",
    "plt.bar(results['Model'], results['Test MAE'], color=['#4e79a7','#f28e2b','#76b7b2','#e15759'])\n",
    "plt.ylabel('Test MAE')\n",
    "plt.title('Test MAE Comparison')\n",
    "plt.xticks(rotation=15)\n",
    "plt.tight_layout()\n",
    "plt.savefig('Figures/model_mae_comparison.png')\n",
    "plt.show()"
   ]
  },
  {
   "cell_type": "code",
   "execution_count": 17,
   "id": "893eafd1",
   "metadata": {},
   "outputs": [
    {
     "data": {
      "image/png": "[encoded data removed]",
      "text/plain": [
       "<Figure size 600x400 with 1 Axes>"
      ]
     },
     "metadata": {},
     "output_type": "display_data"
    }
   ],
   "source": [
    "# 3. Error Distribution for Best Model (CNN TFLite)\n",
    "cnn_tflite_preds = []\n",
    "interpreter = tf.lite.Interpreter(model_path='Models/cnn_model_quant.tflite')\n",
    "interpreter.allocate_tensors()\n",
    "input_details = interpreter.get_input_details()\n",
    "output_details = interpreter.get_output_details()\n",
    "for i in range(len(X_test)):\n",
    "    x = X_test[i:i+1].astype(np.float32)\n",
    "    scale, zero_point = input_details[0]['quantization']\n",
    "    x_q = (x / scale + zero_point).astype(np.int8)\n",
    "    interpreter.set_tensor(input_details[0]['index'], x_q)\n",
    "    interpreter.invoke()\n",
    "    y_q = interpreter.get_tensor(output_details[0]['index'])\n",
    "    y_pred = (y_q.astype(np.float32) - output_details[0]['quantization'][1]) * output_details[0]['quantization'][0]\n",
    "    cnn_tflite_preds.append(y_pred[0][0])\n",
    "cnn_tflite_preds = np.array(cnn_tflite_preds)\n",
    "\n",
    "plt.figure(figsize=(6,4))\n",
    "plt.hist(cnn_tflite_preds - y_test, bins=50, color='#76b7b2', alpha=0.8)\n",
    "plt.xlabel('Prediction Error')\n",
    "plt.ylabel('Frequency')\n",
    "plt.title('Error Distribution (CNN TFLite)')\n",
    "plt.tight_layout()\n",
    "plt.savefig('Figures/cnn_tflite_error_distribution.png')\n",
    "plt.show()"
   ]
  },
  {
   "cell_type": "markdown",
   "id": "67198a08",
   "metadata": {},
   "source": [
    "## 8. Conclusion\n",
    "\n",
    "- Both models achieve reasonable accuracy with very small model sizes after quantization (<60KB).\n",
    "- The quantized models are suitable for deployment on embedded systems.\n",
    "- The CNN model slightly outperforms the dense model in this task.\n",
    "- All visualizations and models are saved in the `Models/` directory."
   ]
  }
 ],
 "metadata": {
  "kernelspec": {
   "display_name": "Python 3",
   "language": "python",
   "name": "python3"
  },
  "language_info": {
   "codemirror_mode": {
    "name": "ipython",
    "version": 3
   },
   "file_extension": ".py",
   "mimetype": "text/x-python",
   "name": "python",
   "nbconvert_exporter": "python",
   "pygments_lexer": "ipython3",
   "version": "3.11.9"
  }
 },
 "nbformat": 4,
 "nbformat_minor": 5
}
